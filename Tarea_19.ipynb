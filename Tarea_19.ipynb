{
 "cells": [
  {
   "cell_type": "markdown",
   "metadata": {},
   "source": [
    "# __Ejercicio1__:\n",
    "Escriba la forma del operador laplaciano utilizando diferencias finitas simétricas. Es decir, discretice: $\\nabla^2=\\frac{\\partial^2 f}{\\partial x^2}+\\frac{\\partial^2 f}{\\partial y^2}+\\frac{\\partial^2 f}{\\partial z^2}$\n"
   ]
  },
  {
   "cell_type": "markdown",
   "metadata": {},
   "source": [
    "Solución:\n"
   ]
  },
  {
   "cell_type": "markdown",
   "metadata": {},
   "source": [
    "Sabemos que $$\\frac{\\partial^2 f}{\\partial x^2}=\\frac{f_{x-1}-2f_x+f_{x+1}}{h^2}$$\n",
    "\n",
    "$$\\frac{\\partial^2 f}{\\partial y^2}=\\frac{f_{y-1}-2f_y+f_{y+1}}{h^2}$$\n",
    "\n",
    "$$\\frac{\\partial^2 f}{\\partial z^2}=\\frac{f_{z-1}-2f_z+f_{z+1}}{h^2}$$"
   ]
  },
  {
   "cell_type": "markdown",
   "metadata": {},
   "source": [
    "Por lo tanto \n",
    "$$\\nabla^2=\\frac{f_{x-1}-2f_x+f_{x+1}}{h^2}+\\frac{f_{y-1}-2f_y+f_{y+1}}{h^2}+\\frac{f_{z-1}-2f_z+f_{z+1}}{h^2}$$"
   ]
  },
  {
   "cell_type": "markdown",
   "metadata": {},
   "source": [
    "$$\\nabla^2=\\frac{f_{x-1}+f_{x+1}+f_{y-1}+f_{y+1}+f_{z-1}+f_{z+1}-6f_{x,y,z}}{h^2}$$"
   ]
  },
  {
   "cell_type": "markdown",
   "metadata": {},
   "source": [
    "# Ejercicio 2 \n",
    "(condiciones a la frontera de Dirichlet). Discretice la ecuación \n",
    "$$ \\frac{d^2f}{dx^2}, $$\n",
    "en el intervalo $[0,1]$, y aplicando el operador laplaciano discretizado obtenga el sistema de ecuaciones algebraicas lineales correspondientes al problema de _Dirichlet_:\n",
    "$f(0) = a$ y $f(1) = b$ dividiendo el intervalo $[0,1]$ en $5$ puntos separados por $h$."
   ]
  },
  {
   "cell_type": "markdown",
   "metadata": {},
   "source": [
    "Tenemos  $$\\frac{d^2f}{dx^2}=f_{x_{i-1}}-2f_{x_i}+f_{x_{i+1}}=0$$"
   ]
  },
  {
   "cell_type": "markdown",
   "metadata": {},
   "source": [
    "Como está separado en 5 puntos tenemos $x_0,x_1, x_2, x_3, x_4$, por lo tanto se tiene lo siguiente:"
   ]
  },
  {
   "cell_type": "markdown",
   "metadata": {},
   "source": [
    "$$f_{x_0}-2f_{x_1}+f_{x_2}=0$$\n",
    "\n",
    "$$f_{x_1}-2f_{x_2}+f_{x_3}=0$$\n",
    "\n",
    "$$f_{x_2}-2f_{x_3}+f_{x_4}=0$$\n"
   ]
  },
  {
   "cell_type": "markdown",
   "metadata": {},
   "source": [
    "Y como $f(0)=f_{x_0}=a$ y f(1)=$f_{x_4}=b$ entonces:"
   ]
  },
  {
   "cell_type": "markdown",
   "metadata": {},
   "source": [
    "$$a-2f_{x_1}+f_{x_2}=0$$\n",
    "\n",
    "$$f_{x_1}-2f_{x_2}+f_{x_3}=0$$\n",
    "\n",
    "$$f_{x_2}-2f_{x_3}+b=0$$"
   ]
  },
  {
   "cell_type": "markdown",
   "metadata": {},
   "source": [
    "# Ejercicio 3 \n",
    "(condiciones a la frontera de Neumann). Hacer lo mismo para condiciones de _Neumann_, es decir, fijando en los extremos el valor de la primera derivada de la función. Para esto utilice la derivada _hacia adeltante_ en las orillas, es decir, si $f'(0)=a$ y $f'(1)=b$, entonces $(f_1-f_0)/h=a$, etc. No olvide que debe resultar un sistema de ecuación cuya dimensión sea el número de incognitas.\n"
   ]
  },
  {
   "cell_type": "markdown",
   "metadata": {},
   "source": [
    "Tenemos que\n",
    "$$f'(x_0)=f'(0)=a$$  $$f'(x_4)=f'(1)=b$$"
   ]
  },
  {
   "cell_type": "markdown",
   "metadata": {},
   "source": [
    "y por ortro lado $a=\\frac{f_{x_1}-f_{x_0}}{h}$ y $b=\\frac{f_{x_4}-f_{x_3}}{h}$"
   ]
  },
  {
   "cell_type": "markdown",
   "metadata": {},
   "source": [
    "Por lo tanto $$f_{x_0}=f_{x_1}-ah$$ \n",
    " $$f_{x_4}=f_{x_3}-bh$$"
   ]
  },
  {
   "cell_type": "markdown",
   "metadata": {},
   "source": [
    "Y sustituyendo enel sistema de 3 ecuaciones del ejercicio 2 tenemos\n",
    "$$f_{x_1}-ah-2f_{x_1}+f_{x_2}=0$$\n",
    "\n",
    "$$f_{x_1}-2f_{x_2}+f_{x_3}=0$$\n",
    "\n",
    "$$f_{x_2}-2f_{x_3}+f_{x_3}-bh=0$$\n",
    "SIMPLIFICANDO\n",
    "$$f_{x_2}-f_{x_1}-ah=0$$\n",
    "$$f_{x_1}-2f_{x_2}+f_{x_3}=0$$\n",
    "$$f_{x_2}-f_{x_3}-bh=0$$"
   ]
  },
  {
   "cell_type": "markdown",
   "metadata": {},
   "source": [
    "Y queda un sistema de 3 ecuaciones con 3 incócnitas"
   ]
  },
  {
   "cell_type": "markdown",
   "metadata": {},
   "source": [
    "# Ejercicio 4 \n",
    "(indexación). `Julia` es más eficiente\n",
    "si se utiliza un único índice para acceder a los elementos\n",
    "de una matriz, además que puede simplificar algunos problemas. Escribe una función $\\phi$ que traduzca un par de\n",
    "índices $i,j$ a un único índice $k$, es decir:\n",
    "$$\\phi: (i,j) \\mapsto k.$$\n",
    "También encuentren $\\phi^{-1}$. Note que $\\phi$ deberá depender de las dimensiones del arreglo, por lo menos de una de ellas."
   ]
  },
  {
   "cell_type": "code",
   "execution_count": 15,
   "metadata": {},
   "outputs": [
    {
     "data": {
      "text/plain": [
       "fi (generic function with 1 method)"
      ]
     },
     "execution_count": 15,
     "metadata": {},
     "output_type": "execute_result"
    }
   ],
   "source": [
    "function fi(i,j,R)#columnas,renglones,dimension de renglones\n",
    "    k= j+(i-1)*R\n",
    "end"
   ]
  },
  {
   "cell_type": "code",
   "execution_count": 29,
   "metadata": {},
   "outputs": [
    {
     "data": {
      "text/plain": [
       "2×2 Array{Int64,2}:\n",
       " 2  7\n",
       " 3  2"
      ]
     },
     "execution_count": 29,
     "metadata": {},
     "output_type": "execute_result"
    }
   ],
   "source": [
    "M=[2 7 ; 3 2 ]"
   ]
  },
  {
   "cell_type": "code",
   "execution_count": 33,
   "metadata": {},
   "outputs": [],
   "source": [
    "R= size(M,1) #numero de renglones\n",
    "C= size(M,2); #no. de columnas"
   ]
  },
  {
   "cell_type": "code",
   "execution_count": 34,
   "metadata": {},
   "outputs": [
    {
     "name": "stdout",
     "output_type": "stream",
     "text": [
      "con i=1 j=1 entonces k=1\n",
      "con i=1 j=2 entonces k=2\n",
      "con i=2 j=1 entonces k=3\n",
      "con i=2 j=2 entonces k=4\n"
     ]
    }
   ],
   "source": [
    "for i in 1:R\n",
    "    for j in 1:C\n",
    "        println(\"con i=\", i  , \" j=\", j ,\" entonces k=\" ,fi(i,j,R))\n",
    "    end\n",
    "end"
   ]
  },
  {
   "cell_type": "code",
   "execution_count": 39,
   "metadata": {},
   "outputs": [
    {
     "data": {
      "text/plain": [
       "finversa (generic function with 1 method)"
      ]
     },
     "execution_count": 39,
     "metadata": {},
     "output_type": "execute_result"
    }
   ],
   "source": [
    "function finversa(k,R)\n",
    "    if k%R!=0\n",
    "        j = k%R\n",
    "    else\n",
    "        j = R\n",
    "    end\n",
    "    i = (k-j+R)/R\n",
    "    return [i,j]\n",
    "end"
   ]
  },
  {
   "cell_type": "code",
   "execution_count": 45,
   "metadata": {},
   "outputs": [
    {
     "name": "stdout",
     "output_type": "stream",
     "text": [
      "si k=1 entonces i=1.0 y j=1.0\n",
      "si k=2 entonces i=1.0 y j=2.0\n"
     ]
    }
   ],
   "source": [
    "for k in 1:R\n",
    "    inv = finversa(k,R)\n",
    "    println(\"si k=\", k , \" entonces i=\", inv[1], \" y j=\", inv[2])\n",
    "end"
   ]
  }
 ],
 "metadata": {
  "kernelspec": {
   "display_name": "Julia 0.7.0-DEV",
   "language": "julia",
   "name": "julia-0.7"
  },
  "language_info": {
   "file_extension": ".jl",
   "mimetype": "application/julia",
   "name": "julia",
   "version": "0.7.0"
  }
 },
 "nbformat": 4,
 "nbformat_minor": 2
}
