{
 "cells": [
  {
   "cell_type": "markdown",
   "metadata": {},
   "source": [
    "__Ejercicio 2__. Utiliza tu función `derivadaNumerica` para\n",
    "calcular la derivada de la función $\\cos$ en un punto\n",
    "$x_0\\in[0,1)$. Compara tu resultado con el que indica el\n",
    "cálculo exacto. Utiliza valores de $h$ cada vez más pequeños, grafica el comportamiento de la derivada y muestra como converge al valor exacto conforme tomamos $h$'s cada vez más pequeño. Para ello pueden graficar el resultado de la derivada numérica contra $1/h$.\n",
    "Observa el resultado de la aproximación y comenta. ¿El error es del orden de $h$?, para ver esto grafica el error relativo a $f'(x_0)$:\n",
    "$$\\epsilon=\\left|\\frac{\\Delta f(x_0,h)/h-f'(x_0)}{f'(x_0)}\\right|,$$\n",
    "respecto a $h$."
   ]
  },
  {
   "cell_type": "code",
   "execution_count": 2,
   "metadata": {
    "collapsed": false
   },
   "outputs": [
    {
     "data": {
      "text/plain": [
       "derivadaNumerica (generic function with 1 method)"
      ]
     },
     "execution_count": 2,
     "metadata": {},
     "output_type": "execute_result"
    }
   ],
   "source": [
    "function derivadaNumerica(f,x,h) #copié lo mismo que ejercicio 1 de la tarea_8\n",
    " \n",
    "  df=(f(x+h)-f(x))/h \n",
    "  \n",
    "    return df\n",
    "    \n",
    "end"
   ]
  },
  {
   "cell_type": "code",
   "execution_count": 3,
   "metadata": {
    "collapsed": false
   },
   "outputs": [
    {
     "data": {
      "text/plain": [
       "f (generic function with 1 method)"
      ]
     },
     "execution_count": 3,
     "metadata": {},
     "output_type": "execute_result"
    }
   ],
   "source": [
    " f(x)=cos(x) #defino la función"
   ]
  },
  {
   "cell_type": "code",
   "execution_count": 4,
   "metadata": {
    "collapsed": false
   },
   "outputs": [
    {
     "data": {
      "text/plain": [
       "-0.0004999999583255033"
      ]
     },
     "execution_count": 4,
     "metadata": {},
     "output_type": "execute_result"
    }
   ],
   "source": [
    "derivadaNumerica(f,0,1e-3) #la derivada se cos es sin y evaluado en x=0 nos da 0"
   ]
  },
  {
   "cell_type": "code",
   "execution_count": 5,
   "metadata": {
    "collapsed": false
   },
   "outputs": [
    {
     "data": {
      "text/plain": [
       "9-element Array{Any,1}:\n",
       " 0.1   \n",
       " 0.01  \n",
       " 0.001 \n",
       " 0.0001\n",
       " 1.0e-5\n",
       " 1.0e-6\n",
       " 1.0e-7\n",
       " 1.0e-8\n",
       " 1.0e-9"
      ]
     },
     "execution_count": 5,
     "metadata": {},
     "output_type": "execute_result"
    }
   ],
   "source": [
    "h=[]#defino a h como un vector vacío para posteriormente agregarle más valores \n",
    "for i in 1:9\n",
    "    push!(h,1/10^i) #con \"push!\" busco agregar valores al vector h cuyos valores serán números cada vez más pequeños del orden 1/10 donde elevo 10 a la potencia i entonces los valores serán 1/10^1, 1/10^2, ... , 1/10^8\n",
    "end\n",
    "h #pido que muestre h para confirmar que cada vez es más pequeño"
   ]
  },
  {
   "cell_type": "code",
   "execution_count": 6,
   "metadata": {
    "collapsed": false
   },
   "outputs": [
    {
     "data": {
      "text/plain": [
       "derivadaNumerica (generic function with 1 method)"
      ]
     },
     "execution_count": 6,
     "metadata": {},
     "output_type": "execute_result"
    }
   ],
   "source": [
    "function derivadaNumerica(f,x,h) \n",
    " listh=zeros(9) #hago una lista de 8 ceros\n",
    "    for i in 1:9\n",
    "  df=(f(x+h[i])-f(x))/h[i] #Pido que se realicen las derivadas con cada elemento del vector h que definí arriba\n",
    "        \n",
    "        listh[i]=df #Las derivadas calculadas con cada elemento de h se guardarán en la lista que hice\n",
    "    end\n",
    "    return listh #al final se mostrará la lista de derivadas\n",
    "    \n",
    "end"
   ]
  },
  {
   "cell_type": "code",
   "execution_count": 7,
   "metadata": {
    "collapsed": false
   },
   "outputs": [
    {
     "data": {
      "text/plain": [
       "9-element Array{Float64,1}:\n",
       " -0.0499583 \n",
       " -0.00499996\n",
       " -0.0005    \n",
       " -5.0e-5    \n",
       " -5.0e-6    \n",
       " -5.00044e-7\n",
       " -4.996e-8  \n",
       "  0.0       \n",
       "  0.0       "
      ]
     },
     "execution_count": 7,
     "metadata": {},
     "output_type": "execute_result"
    }
   ],
   "source": [
    "derivadaNumerica(f,0,h) #se ve que a partir de 1/10^8 el resultado es cero, es decir el resultado real"
   ]
  },
  {
   "cell_type": "code",
   "execution_count": 8,
   "metadata": {
    "collapsed": false
   },
   "outputs": [
    {
     "data": {
      "text/plain": [
       "9-element Array{Any,1}:\n",
       "     10.0  \n",
       "    100.0  \n",
       "   1000.0  \n",
       "  10000.0  \n",
       " 100000.0  \n",
       "      1.0e6\n",
       "      1.0e7\n",
       "      1.0e8\n",
       "      1.0e9"
      ]
     },
     "execution_count": 8,
     "metadata": {},
     "output_type": "execute_result"
    }
   ],
   "source": [
    "hinv=[] #voy a calcular 1/h para graficar\n",
    "for i in 1:9\n",
    "push!(hinv,1/h[i])\n",
    "end\n",
    "hinv"
   ]
  },
  {
   "cell_type": "code",
   "execution_count": 11,
   "metadata": {
    "collapsed": false
   },
   "outputs": [
    {
     "data": {
      "image/png": "[encoded data removed]",
      "text/plain": [
       "PyPlot.Figure(PyObject <matplotlib.figure.Figure object at 0x7ff1d042ae90>)"
      ]
     },
     "metadata": {},
     "output_type": "display_data"
    },
    {
     "data": {
      "text/plain": [
       "(0, 1.0e-5)"
      ]
     },
     "execution_count": 11,
     "metadata": {},
     "output_type": "execute_result"
    }
   ],
   "source": [
    "using PyPlot\n",
    "\n",
    "plot(hinv,abs.(derivadaNumerica(f,0,h))) #utilizo valor absoluto de las derivadas para verlo en el plano positivo\n",
    "xlim(10,1e7) #modifico la escala\n",
    "ylim(0,1e-5)\n",
    "#Podemos observar que con h mas pequeñas el valor de la derivada( en el eje y) se aproxima a cero (en el eje y tenemos el inverso de h que como h cada vez es mas pequeño, 1/h es más grande)"
   ]
  },
  {
   "cell_type": "code",
   "execution_count": 10,
   "metadata": {
    "collapsed": false
   },
   "outputs": [],
   "source": [
    "d(x)= sin(x)# esta es la derivada de f(x)\n",
    "e=(derivadaNumerica(f,1,h)-d(1))/d(1); #calculo el error"
   ]
  },
  {
   "cell_type": "code",
   "execution_count": 15,
   "metadata": {
    "collapsed": false
   },
   "outputs": [
    {
     "data": {
      "image/png": "[encoded data removed]",
      "text/plain": [
       "PyPlot.Figure(PyObject <matplotlib.figure.Figure object at 0x7f006457d990>)"
      ]
     },
     "metadata": {},
     "output_type": "display_data"
    },
    {
     "data": {
      "text/plain": [
       "1-element Array{Any,1}:\n",
       " PyObject <matplotlib.lines.Line2D object at 0x7f00644ce390>"
      ]
     },
     "execution_count": 15,
     "metadata": {},
     "output_type": "execute_result"
    }
   ],
   "source": [
    "plot(h,e)"
   ]
  },
  {
   "cell_type": "markdown",
   "metadata": {},
   "source": [
    "__Ejercicio 3__. Teniendo en mente la serie de Taylor para $f(x+h)$ ¿existe\n",
    "alguna forma de mejorar el cálculo de la derivada numérica? Comenta.\n",
    "__Tip:__ ¿Que pasa con los términos pares de la serie cuando la calculamos para $f(x-h)$?, ¿Como podemos despejar la derivada exacta de $f$ combinando ambas series? "
   ]
  },
  {
   "cell_type": "markdown",
   "metadata": {},
   "source": [
    "Para mejorar el cáclulo de la derivada necesitamos que el error sea menor esdecir que $h$ sea de orden mayor.\n"
   ]
  },
  {
   "cell_type": "markdown",
   "metadata": {},
   "source": [
    "La serie de Taylor para $f(x+h)$ nos queda\n",
    "$$f(x+h)=f(x)+\\frac{df}{dx}h+\\frac{d^2f}{dx^2}\\frac{h^2}{2}+\\frac{d^3f}{dx^3}\\frac{h^3}{3!}+...$$"
   ]
  },
  {
   "cell_type": "markdown",
   "metadata": {},
   "source": [
    "Y por otro lado, la serie de Taylor para $f(x-h)$ nos queda\n",
    "$$f(x-h)=f(x)-\\frac{df}{dx}h+\\frac{d^2f}{dx^2}\\frac{h^2}{2}-\\frac{d^3f}{dx^3}\\frac{h^3}{3!}+...-...+$$"
   ]
  },
  {
   "cell_type": "markdown",
   "metadata": {},
   "source": [
    "Restando $f(x+h)$ y $f(x-h)$"
   ]
  },
  {
   "cell_type": "markdown",
   "metadata": {},
   "source": [
    "$$f(x+h)-f(x-h)=f(x)-f(x)+\\frac{df}{dx}h+\\frac{df}{dx}h+\\frac{d^2f}{dx^2}\\frac{h^2}{2}-\\frac{d^2f}{dx^2}\\frac{h^2}{2}+\\frac{d^3f}{dx^3}\\frac{h^3}{3!}+\\frac{d^3f}{dx^3}\\frac{h^3}{3!}...$$\n",
    "\n"
   ]
  },
  {
   "cell_type": "markdown",
   "metadata": {},
   "source": [
    "$$f(x+h)-f(x-h)=2\\frac{df}{dx}h+2\\frac{d^3f}{dx^3}\\frac{h^3}{3!}+...$$"
   ]
  },
  {
   "cell_type": "markdown",
   "metadata": {},
   "source": [
    "Entonces divido entre $2h$ y paso restando $\\frac{df}{dx}$ y se obtiene\n",
    "$$\\frac{f(x+h)-f(x-h)}{2h}-\\frac{df}{dx}=\\mathcal{O}(h^2)$$\n",
    "y claramente el error converge más rápido.\n"
   ]
  },
  {
   "cell_type": "markdown",
   "metadata": {},
   "source": [
    "__Ejercicio 4__. Implementa la _derivada\n",
    "simétrica_ en `Julia` como `derivada_Simetrica` y repite la\n",
    "comparativa que realizaste en el __ejercicio 2__.\n"
   ]
  },
  {
   "cell_type": "markdown",
   "metadata": {},
   "source": [
    "Derivada simétrica: $$\n",
    "f'(x) = \\lim_{h\\to0}\\frac{f(x+h)-f(x-h)}{2h}.\n",
    "$$"
   ]
  },
  {
   "cell_type": "code",
   "execution_count": 25,
   "metadata": {
    "collapsed": false
   },
   "outputs": [
    {
     "data": {
      "text/plain": [
       "derivadaSimetrica (generic function with 1 method)"
      ]
     },
     "execution_count": 25,
     "metadata": {},
     "output_type": "execute_result"
    }
   ],
   "source": [
    "#Haré exactamente lo mismo que el ejercicio 2 pero cambiando la fórmula\n",
    "function derivadaSimetrica(f,x,h) \n",
    " listh=zeros(9) \n",
    "    for i in 1:9\n",
    "  df=(f(x+h[i])-f(x-h[i]))/h[i] #esta es la parte que cambia del ejercicio 2\n",
    "        \n",
    "        listh[i]=df \n",
    "    end\n",
    "    return listh \n",
    "    \n",
    "end"
   ]
  },
  {
   "cell_type": "code",
   "execution_count": 26,
   "metadata": {
    "collapsed": false
   },
   "outputs": [
    {
     "data": {
      "text/plain": [
       "f (generic function with 1 method)"
      ]
     },
     "execution_count": 26,
     "metadata": {},
     "output_type": "execute_result"
    }
   ],
   "source": [
    " f(x)=cos(x)"
   ]
  },
  {
   "cell_type": "code",
   "execution_count": 27,
   "metadata": {
    "collapsed": true
   },
   "outputs": [],
   "source": [
    "h=[]\n",
    "for i in 1:9\n",
    "    push!(h,1/10^i) \n",
    "end\n",
    "hinv=[] \n",
    "for i in 1:9\n",
    "push!(hinv,1/h[i])\n",
    "end"
   ]
  },
  {
   "cell_type": "code",
   "execution_count": 48,
   "metadata": {
    "collapsed": false
   },
   "outputs": [
    {
     "data": {
      "text/plain": [
       "9-element Array{Float64,1}:\n",
       " 0.0\n",
       " 0.0\n",
       " 0.0\n",
       " 0.0\n",
       " 0.0\n",
       " 0.0\n",
       " 0.0\n",
       " 0.0\n",
       " 0.0"
      ]
     },
     "execution_count": 48,
     "metadata": {},
     "output_type": "execute_result"
    }
   ],
   "source": [
    "derivadaSimetrica(f,0,h)"
   ]
  },
  {
   "cell_type": "code",
   "execution_count": 53,
   "metadata": {
    "collapsed": false
   },
   "outputs": [
    {
     "data": {
      "image/png": "[encoded data removed]",
      "text/plain": [
       "PyPlot.Figure(PyObject <matplotlib.figure.Figure object at 0x7f006389a110>)"
      ]
     },
     "metadata": {},
     "output_type": "display_data"
    },
    {
     "data": {
      "text/plain": [
       "1-element Array{Any,1}:\n",
       " PyObject <matplotlib.lines.Line2D object at 0x7f00643a9ed0>"
      ]
     },
     "execution_count": 53,
     "metadata": {},
     "output_type": "execute_result"
    }
   ],
   "source": [
    "using PyPlot\n",
    "\n",
    "plot(hinv,abs.(derivadaSimetrica(f,0,h))) \n"
   ]
  },
  {
   "cell_type": "code",
   "execution_count": 30,
   "metadata": {
    "collapsed": false
   },
   "outputs": [
    {
     "data": {
      "image/png": "[encoded data removed]",
      "text/plain": [
       "PyPlot.Figure(PyObject <matplotlib.figure.Figure object at 0x7f00644a6e90>)"
      ]
     },
     "metadata": {},
     "output_type": "display_data"
    },
    {
     "data": {
      "text/plain": [
       "1-element Array{Any,1}:\n",
       " PyObject <matplotlib.lines.Line2D object at 0x7f00641b2e10>"
      ]
     },
     "execution_count": 30,
     "metadata": {},
     "output_type": "execute_result"
    }
   ],
   "source": [
    "d(x)= sin(x)\n",
    "e=(derivadaSimetrica(f,1,h)-d(1))/d(1); \n",
    "plot(h,e)"
   ]
  },
  {
   "cell_type": "markdown",
   "metadata": {},
   "source": [
    "__Ejercicio 5:__ Demuestre que $\\Delta_h$ es un operador lineal y que podemos \"factorizar\" la función a la derecha del operador. Hecho esto podemos quitar de ambos lados la función $f$ para obtener lo siguiente:\n",
    "$$\\Delta_h=\\sum_{n=1}^{\\infty} \\frac{1}{n!}h^n\\left.\\frac{d^n}{d\\xi^n}\\right|_{\\substack{ \\xi=x }}$$"
   ]
  },
  {
   "cell_type": "markdown",
   "metadata": {},
   "source": [
    "Como es un operador lineal sabemos que abre sumas y saca escalares, por lo tanto\n",
    "$$\\Delta_h=\\left[\\sum_{n=1}^{\\infty} \\frac{1}{n!}h^n\\left.\\frac{d^n}{d\\xi^n}\\right|_{\\substack{ \\xi=x }}\\right](f)+c\\left[\\sum_{n=1}^{\\infty} \\frac{1}{n!}h^n\\left.\\frac{d^n}{d\\xi^n}\\right|_{\\substack{ \\xi=x }}\\right](g)$$"
   ]
  },
  {
   "cell_type": "markdown",
   "metadata": {},
   "source": [
    "__Ejercicio 6:__ Para saber como se relaciona el _operador derivada exacta_ con el _operador diferencia finita hacia adelante_ es necesario invertir la serie $\\Delta_h=\\sum_{n=1}^{\\infty} \\frac{1}{n!}h^n\\left.\\frac{d^n}{d\\xi^n}\\right|_{\\substack{ \\xi=x }}$. Una forma directa de hacerlo es identificar la función para la cual es esa serie. Entonces, pensando en el operador derivada como un número, la serie se identifica como función evaluada en $\\left. h\\frac{d}{d_\\xi}\\right|_{\\substack{ \\xi=x }}$, ¿cual es esa función?. Si llamamos $\\phi$ a dicha función, deberiamos de tener una relación de la siguiente forma:\n",
    "$$\\Delta_h=\\phi\\left(h\\left.\\frac{d}{d\\xi}\\right|_{\\substack{ \\xi=x }}\\right)$$.\n",
    "    \n",
    "* __Nota:__ En la clase se demostró que $\\phi(x)=e^x-1$, escriba el razonamiento en $\\LaTeX$ de como se llegó a esto."
   ]
  },
  {
   "cell_type": "markdown",
   "metadata": {
    "collapsed": true
   },
   "source": [
    "___Demostración___\n",
    "$$\\Delta_h=\\sum_{n=1}^{\\infty} \\frac{1}{n!}h^n\\left.\\frac{d^n}{d\\xi^n}\\right|_{\\substack{ \\xi=x }}$$\n",
    "Summando (1-1) es como sumar un cero entonces\n",
    "$$\\Delta_h=\\sum_{n=1}^{\\infty} \\frac{1}{n!}h^n\\left.\\frac{d^n}{d\\xi^n}\\right|_{\\substack{ \\xi=x }}+1-1$$"
   ]
  },
  {
   "cell_type": "markdown",
   "metadata": {},
   "source": [
    "Quitanto el +1 se empieza ahora con n=1 ya que se recorre un paso\n",
    "$$\\Delta_h=\\sum_{n=0}^{\\infty} \\frac{1}{n!}h^n\\left.\\frac{d^n}{d\\xi^n}\\right|_{\\substack{ \\xi=x }}-1 =e^{h\\left.\\frac{d^n}{d\\xi^n}\\right|_{\\substack{ \\xi=x }}}-1=e^x-1=\\phi(x)$$\n",
    "Con $x=h\\left.\\frac{d^n}{d\\xi^n}\\right|_{\\substack{ \\xi=x }}$"
   ]
  },
  {
   "cell_type": "markdown",
   "metadata": {},
   "source": []
  }
 ],
 "metadata": {
  "kernelspec": {
   "display_name": "Julia 0.6.0",
   "language": "julia",
   "name": "julia-0.6"
  },
  "language_info": {
   "file_extension": ".jl",
   "mimetype": "application/julia",
   "name": "julia",
   "version": "0.6.0"
  }
 },
 "nbformat": 4,
 "nbformat_minor": 2
}
