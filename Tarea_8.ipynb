{
 "cells": [
  {
   "cell_type": "markdown",
   "metadata": {},
   "source": [
    "$$\n",
    "f'(x) = \\lim_{h\\to0}\\frac{f(x+h)-f(x)}{h}.\n",
    "$$"
   ]
  },
  {
   "cell_type": "markdown",
   "metadata": {},
   "source": [
    "__Ejercicio 1.__ Escribe una función derivadaNumerica que reciba: una función  f:ℝ↦ℝf:R↦R , un punto  x0∈ℝx0∈R  y un número  h∈ℝh∈R . Esta función deberá calcular una aproximación a la derivada utilizando la definición indicada arriba ignorando la parte del límite. Es decir, algo como: derivada_numerica(f,x,h)."
   ]
  },
  {
   "cell_type": "code",
   "execution_count": 23,
   "metadata": {
    "collapsed": false
   },
   "outputs": [
    {
     "data": {
      "text/plain": [
       "derivadaNumerica (generic function with 1 method)"
      ]
     },
     "execution_count": 23,
     "metadata": {},
     "output_type": "execute_result"
    }
   ],
   "source": [
    "function derivadaNumerica(f,x,h) \n",
    "  \n",
    "  df=(f(x+h)-f(x))/h #df es la derivada de f y esta es la forma de calcularlo\n",
    "    return df\n",
    "end"
   ]
  },
  {
   "cell_type": "code",
   "execution_count": 26,
   "metadata": {
    "collapsed": false
   },
   "outputs": [
    {
     "data": {
      "text/plain": [
       "f (generic function with 1 method)"
      ]
     },
     "execution_count": 26,
     "metadata": {},
     "output_type": "execute_result"
    }
   ],
   "source": [
    " f(x)=3x^2-4x+2 #defino la función"
   ]
  },
  {
   "cell_type": "code",
   "execution_count": 29,
   "metadata": {
    "collapsed": false
   },
   "outputs": [
    {
     "data": {
      "text/plain": [
       "2.002999999999311"
      ]
     },
     "execution_count": 29,
     "metadata": {},
     "output_type": "execute_result"
    }
   ],
   "source": [
    "derivadaNumerica(f,1,1e-3) #voy a evaluar la función en x=1 con h algo pequeña y el resultado es muy cercano, si defino una h mayor, elresultado seaproxima cada vez más."
   ]
  },
  {
   "cell_type": "markdown",
   "metadata": {},
   "source": [
    "__Ejercicio 7:__ Explotar la relación $\\delta_h=\\Delta_h-\\Delta_{-h}$, donde $\\delta_h:f(x)\\mapsto f(x+h)-f(x-h)$, para encontrar cual es la función $\\theta$ que relaciona a $\\delta_h$ con el operador derivada exacta, es decir:\n",
    "$$\\delta_h=\\theta\\left(h\\left. \\frac{d}{d\\xi}\\right|_{\\xi=x}\\right).$$\n",
    "\n",
    "Una vez que la encuentren, despejen $\\left. \\frac{d}{d\\xi}\\right|_{\\xi=x}$ y calculen la serie de Taylor de mánera similar a lo mostrado en las ecuaciones 3 y 4."
   ]
  },
  {
   "cell_type": "markdown",
   "metadata": {},
   "source": [
    "$$\\delta_h=\\Delta_h-\\Delta_{-h}$$\n",
    "$$\\delta_hf(x)=f(x+h)-f(x-h)$$\n",
    "Pero sabemos lo siguiente de $\\Delta_h y \\Delta_{-h}$\n",
    "$$\\Delta_h=exp(\\left(h\\left. \\frac{d}{d\\xi}\\right|_{\\xi=x}\\right)-1$$\n",
    "$$\\Delta_{-h}=exp(\\left(-h\\left. \\frac{d}{d\\xi}\\right|_{\\xi=x}\\right)-1$$\n",
    "Por lo tanto\n",
    "$\\delta_h=exp(\\left(h\\left. \\frac{d}{d\\xi}\\right|_{\\xi=x}\\right)-1-exp(\\left(-h\\left. \\frac{d}{d\\xi}\\right|_{\\xi=x}\\right)-1$\n",
    " $$\\delta_h=2sinh(\\left(h\\left. \\frac{d}{d\\xi}\\right|_{\\xi=x}\\right)$$"
   ]
  },
  {
   "cell_type": "markdown",
   "metadata": {},
   "source": [
    "Despejando $\\left. \\frac{d}{d\\xi}\\right|_{\\xi=x}$\n",
    "$$\\left. \\frac{d}{d\\xi}\\right|_{\\xi=x}=\\frac{1}{h}Senh^{-1}(\\frac{\\delta_h}{2})$$\n",
    "\n"
   ]
  }
 ],
 "metadata": {
  "kernelspec": {
   "display_name": "Julia 0.6.0",
   "language": "julia",
   "name": "julia-0.6"
  },
  "language_info": {
   "file_extension": ".jl",
   "mimetype": "application/julia",
   "name": "julia",
   "version": "0.6.0"
  }
 },
 "nbformat": 4,
 "nbformat_minor": 2
}
