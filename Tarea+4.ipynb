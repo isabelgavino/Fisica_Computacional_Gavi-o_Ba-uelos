{
 "cells": [
  {
   "cell_type": "markdown",
   "metadata": {},
   "source": [
    "## Método de integración de Riemann\n",
    "La integral de Riemann de una función real de variable real se denota como:\n",
    "\n",
    "### $$\\int_a^b f(x) \\,dx =  \\lim_{n\\to\\infty}\\frac{(b-a)}{n} \\sum_{k=1}^{n}\\ f(a+k \\frac{(b-a)}{n})\n",
    "$$\n",
    "\n",
    "Donde en la region {a,b} existen *n* rectángulos del mismo ancho y la altura estádada por la función evaluada en el eje Y y se suman todas estas áreas para encontrar el área total bajo la curva del segmento {a,b}.\n",
    "\n",
    "Mientras mayor sea *n*, la aproximación será mejor, así que a la sumatoria de las areas se le saca el límite cuando *n* tiende a infinito.\n",
    "\n",
    "\n",
    "![alt text](https://upload.wikimedia.org/wikipedia/commons/thumb/a/af/Riemann_Integration_4.png/400px-Riemann_Integration_4.png)"
   ]
  },
  {
   "cell_type": "markdown",
   "metadata": {},
   "source": [
    "## Regla del trapecio\n",
    "Este metodo se usa para calcular el valor aproximado de una integral definida, aproximando el valor de la integral de f(x) al de la función lineal que pasa por los puntos (a,f(a)) y (b,f(b)) como se muestra en la siguiente figura donde la función f(x) aparece en azul y la función lineal en rojo.\n",
    "El resultado es que la integral es igual al área del trapecio que se forma bajo la función lineal.\n",
    "\n",
    "![alt text](https://upload.wikimedia.org/wikipedia/commons/thumb/d/dd/Trapezoidal_rule_illustration.png/220px-Trapezoidal_rule_illustration.png)\n",
    "\n",
    "\n",
    "### $$\\int_a^b f(x) \\,dx =  {(b-a)}\\frac{f(a)+f(b)}{2}\n",
    "$$\n",
    "\n",
    "Para calcular el error utilizamos la sieguiente fórmula, donde *e* es un número que ertenece al intervlo {a,b}\n",
    "\n",
    "### $$E=-\\frac{1}{2}\\ f''(e)(b-a)^3 \n",
    "$$\n",
    "\n",
    "\n",
    "Para el caso compuesto, es decir, con más de un trapecio como se muestra en la figura, la integral se calculará de la siguiente forma:\n",
    "\n",
    "### $$\\int_a^b f(x) \\,dx =  \\frac{h}{2}(f(a)+2f(a+h)+2f(a+2h)+...+f(b)) \n",
    "$$\n",
    "con h=(b-a)/n\n",
    "![alt text](https://upload.wikimedia.org/wikipedia/commons/thumb/0/05/Trapezoidal_rule_illustration_small.svg/220px-Trapezoidal_rule_illustration_small.svg.png)"
   ]
  },
  {
   "cell_type": "markdown",
   "metadata": {
    "collapsed": true
   },
   "source": [
    "## Regla de Simpson \n",
    "Es un método de integración numérica que se usa para obtener la aproximación de la integral cuyo método utilizado es similar a la regla del trapecio pero en lugar de aproximar los subintervalos de f a trapecios, se hace aproximándolos mediante polinomios de segundo grado. La integral es calculada de la siguiente forma:\n",
    "### $$\\int_a^b f(x) \\,dx =  \\frac{(b-a)}{6}[f(a)+4 f( \\frac{a+b}{2})+f(b)]$$\n",
    "\n",
    "En este método, el error se calcula de la siguienteforma:\n",
    "### $$E=-\\frac{h^5}{90}\\ f^{(4)}(e)$$\n",
    "donde h=(b-a)/2 y *e* pertenece al intervalo {a,b} \n",
    "\n"
   ]
  }
 ],
 "metadata": {
  "kernelspec": {
   "display_name": "Julia 0.6.0",
   "language": "julia",
   "name": "julia-0.6"
  },
  "language_info": {
   "file_extension": ".jl",
   "mimetype": "application/julia",
   "name": "julia",
   "version": "0.6.0"
  }
 },
 "nbformat": 4,
 "nbformat_minor": 2
}
