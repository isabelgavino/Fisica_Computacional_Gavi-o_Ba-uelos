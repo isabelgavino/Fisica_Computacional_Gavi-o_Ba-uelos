{
 "cells": [
  {
   "cell_type": "markdown",
   "metadata": {},
   "source": [
    "__Ejercicio 1:__ ¿Como podemos evaluar funciones en matrices?\n",
    "__Hint:__ ¿que operaciones sabemos que estan bien definidas sobre matrices?"
   ]
  },
  {
   "cell_type": "markdown",
   "metadata": {},
   "source": [
    "Las podemos evaluar utilizando el polinomio de Taylor."
   ]
  },
  {
   "cell_type": "markdown",
   "metadata": {},
   "source": [
    "-----------------------------------------------------------------------------------"
   ]
  },
  {
   "cell_type": "markdown",
   "metadata": {},
   "source": [
    "__Ejercicio 2:__ ¿Como se define una matriz simétrica?"
   ]
  },
  {
   "cell_type": "markdown",
   "metadata": {},
   "source": [
    "Una matriz simétrica debe ser una matriz cuadrada la cual cumpla que dicha matriz sea igual a la matriz transpuesta.  "
   ]
  },
  {
   "cell_type": "markdown",
   "metadata": {},
   "source": [
    "Por ejemplo:"
   ]
  },
  {
   "cell_type": "code",
   "execution_count": 9,
   "metadata": {},
   "outputs": [
    {
     "data": {
      "text/plain": [
       "3×3 Array{Int64,2}:\n",
       " 3  1  7\n",
       " 1  2  5\n",
       " 7  5  0"
      ]
     },
     "execution_count": 9,
     "metadata": {},
     "output_type": "execute_result"
    }
   ],
   "source": [
    "A=[3 1 7;1 2 5;7 5 0]"
   ]
  },
  {
   "cell_type": "code",
   "execution_count": 11,
   "metadata": {},
   "outputs": [
    {
     "data": {
      "text/plain": [
       "3×3 Array{Int64,2}:\n",
       " 3  1  7\n",
       " 1  2  5\n",
       " 7  5  0"
      ]
     },
     "execution_count": 11,
     "metadata": {},
     "output_type": "execute_result"
    }
   ],
   "source": [
    "A' #La notación para calcular la transpuesta es A' "
   ]
  },
  {
   "cell_type": "code",
   "execution_count": 13,
   "metadata": {},
   "outputs": [
    {
     "data": {
      "text/plain": [
       "true"
      ]
     },
     "execution_count": 13,
     "metadata": {},
     "output_type": "execute_result"
    }
   ],
   "source": [
    "A==A' #Observamos que son iguales. Por lo tanto es una matriz simétrica."
   ]
  },
  {
   "cell_type": "markdown",
   "metadata": {},
   "source": [
    "_________________________________"
   ]
  },
  {
   "cell_type": "markdown",
   "metadata": {},
   "source": [
    "__Ejercicio 3:__ ¿Como puede construir una matriz simétrica a partir de cualquier matriz cuadrada?"
   ]
  },
  {
   "cell_type": "markdown",
   "metadata": {},
   "source": [
    "Sea A una matriz cuadrada cualquiera y A' la tranpuesta de A entonces se puede construir una matriz simétrica de la siguiente forma:\n",
    "$$A_{sim}=\\frac{1}{2}(A+A')$$"
   ]
  },
  {
   "cell_type": "markdown",
   "metadata": {},
   "source": [
    "Por ejemplo:"
   ]
  },
  {
   "cell_type": "code",
   "execution_count": 15,
   "metadata": {},
   "outputs": [
    {
     "data": {
      "text/plain": [
       "3×3 Array{Int64,2}:\n",
       " 1  2  3\n",
       " 2  3  4\n",
       " 6  1  2"
      ]
     },
     "execution_count": 15,
     "metadata": {},
     "output_type": "execute_result"
    }
   ],
   "source": [
    "A=[1 2 3;2 3 4;6 1 2] #La matriz a es una matriz cuadrada no simétrica."
   ]
  },
  {
   "cell_type": "code",
   "execution_count": 7,
   "metadata": {},
   "outputs": [
    {
     "data": {
      "text/plain": [
       "3×3 Array{Int64,2}:\n",
       " 1  2  6\n",
       " 2  3  1\n",
       " 3  4  2"
      ]
     },
     "execution_count": 7,
     "metadata": {},
     "output_type": "execute_result"
    }
   ],
   "source": [
    "A' #A' es la transpuesta de A."
   ]
  },
  {
   "cell_type": "code",
   "execution_count": 8,
   "metadata": {},
   "outputs": [
    {
     "data": {
      "text/plain": [
       "3×3 Array{Float64,2}:\n",
       " 1.0  2.0  4.5\n",
       " 2.0  3.0  2.5\n",
       " 4.5  2.5  2.0"
      ]
     },
     "execution_count": 8,
     "metadata": {},
     "output_type": "execute_result"
    }
   ],
   "source": [
    "Asim=(1/2)*(A+A') #Al aplicar la fórmula obtenemos una matriz simétrica. Se observa claramente ya que Asim=Asim'"
   ]
  },
  {
   "cell_type": "code",
   "execution_count": 14,
   "metadata": {},
   "outputs": [
    {
     "data": {
      "text/plain": [
       "true"
      ]
     },
     "execution_count": 14,
     "metadata": {},
     "output_type": "execute_result"
    }
   ],
   "source": [
    "Asim==Asim'"
   ]
  },
  {
   "cell_type": "markdown",
   "metadata": {},
   "source": [
    "----------------------------------"
   ]
  },
  {
   "cell_type": "markdown",
   "metadata": {},
   "source": [
    "__Ejercicio 4:__ Construya el propagador $e^{A t}$ para cada tiempo sobre una malla y uselo para propagar un estado inicial $\\vec x_0$ cualquiera. Utilice:\n",
    "$$A=\\left(\\begin{array}{cc} -1 & 1\\\\ -1 & -1 \\end{array} \\right).$$\n",
    "* Grafique la trayectoria en el espacio de fase."
   ]
  },
  {
   "cell_type": "code",
   "execution_count": 2,
   "metadata": {},
   "outputs": [],
   "source": [
    "A=[-1 1;-1 -1];"
   ]
  },
  {
   "cell_type": "code",
   "execution_count": 3,
   "metadata": {},
   "outputs": [
    {
     "data": {
      "text/plain": [
       "2-element Array{Complex{Float64},1}:\n",
       " -1.0+1.0im\n",
       " -1.0-1.0im"
      ]
     },
     "execution_count": 3,
     "metadata": {},
     "output_type": "execute_result"
    }
   ],
   "source": [
    "v=eigvals(A) #valores propios"
   ]
  },
  {
   "cell_type": "code",
   "execution_count": 12,
   "metadata": {},
   "outputs": [
    {
     "data": {
      "text/plain": [
       "2×2 Array{Complex{Float64},2}:\n",
       " 0.707107+0.0im       0.707107-0.0im     \n",
       "      0.0+0.707107im       0.0-0.707107im"
      ]
     },
     "execution_count": 12,
     "metadata": {},
     "output_type": "execute_result"
    }
   ],
   "source": [
    "w=eigvecs(A)#vectores propios"
   ]
  },
  {
   "cell_type": "code",
   "execution_count": 15,
   "metadata": {},
   "outputs": [
    {
     "data": {
      "text/plain": [
       "2×2 Array{Complex{Float64},2}:\n",
       " 0.707107-0.0im  -0.0-0.707107im\n",
       " 0.707107+0.0im   0.0+0.707107im"
      ]
     },
     "execution_count": 15,
     "metadata": {},
     "output_type": "execute_result"
    }
   ],
   "source": [
    "i=inv(w)"
   ]
  },
  {
   "cell_type": "code",
   "execution_count": 52,
   "metadata": {},
   "outputs": [
    {
     "name": "stderr",
     "output_type": "stream",
     "text": [
      "WARNING: Method definition xdet(Any, Any) in module Main at In[41]:2 overwritten at In[52]:2.\n"
     ]
    },
    {
     "data": {
      "text/plain": [
       "xdet (generic function with 1 method)"
      ]
     },
     "execution_count": 52,
     "metadata": {},
     "output_type": "execute_result"
    }
   ],
   "source": [
    "function xdet(x0,N) #hago una función que va a depender de la condición inicial y N \n",
    "    t=linspace(0,10,N) #el rango de t es de 0 a 10 en N pasos\n",
    "    listk=[] #hago una lista para guardar los resultados\n",
    "for i in 1:N\n",
    "    k=w*diagm(exp.(v*t[i]))*i*x0 # \"k\" es x(t) pero escogí esa notación\n",
    "    push!(listk,k) \n",
    "    end\n",
    "real(listk) #pido que me imprima únicamente la parte real\n",
    "end"
   ]
  },
  {
   "cell_type": "code",
   "execution_count": 61,
   "metadata": {},
   "outputs": [
    {
     "data": {
      "text/plain": [
       "1000-element Array{Array{Float64,1},1}:\n",
       " [0.707107,0.0]        \n",
       " [1.40006,-0.0140151]  \n",
       " [2.07886,-0.0416243]  \n",
       " [2.74351,-0.0824126]  \n",
       " [3.39405,-0.13597]    \n",
       " [4.03047,-0.201894]   \n",
       " [4.65281,-0.279785]   \n",
       " [5.2611,-0.36925]     \n",
       " [5.85538,-0.469904]   \n",
       " [6.43568,-0.581365]   \n",
       " [7.00205,-0.703257]   \n",
       " [7.55454,-0.835209]   \n",
       " [8.0932,-0.976859]    \n",
       " ⋮                     \n",
       " [-0.0316799,0.015898] \n",
       " [-0.0312367,0.016069] \n",
       " [-0.0307959,0.0162341]\n",
       " [-0.0303574,0.0163933]\n",
       " [-0.0299212,0.0165467]\n",
       " [-0.0294874,0.0166944]\n",
       " [-0.029056,0.0168365] \n",
       " [-0.028627,0.0169729] \n",
       " [-0.0282005,0.0171039]\n",
       " [-0.0277766,0.0172294]\n",
       " [-0.0273552,0.0173496]\n",
       " [-0.0269364,0.0174645]"
      ]
     },
     "execution_count": 61,
     "metadata": {},
     "output_type": "execute_result"
    }
   ],
   "source": [
    "a=xdet([0,1],1000)"
   ]
  },
  {
   "cell_type": "code",
   "execution_count": 62,
   "metadata": {},
   "outputs": [
    {
     "data": {
      "text/plain": [
       "1000-element Array{Float64,1}:\n",
       "  0.707107 \n",
       "  1.40006  \n",
       "  2.07886  \n",
       "  2.74351  \n",
       "  3.39405  \n",
       "  4.03047  \n",
       "  4.65281  \n",
       "  5.2611   \n",
       "  5.85538  \n",
       "  6.43568  \n",
       "  7.00205  \n",
       "  7.55454  \n",
       "  8.0932   \n",
       "  ⋮        \n",
       " -0.0316799\n",
       " -0.0312367\n",
       " -0.0307959\n",
       " -0.0303574\n",
       " -0.0299212\n",
       " -0.0294874\n",
       " -0.029056 \n",
       " -0.028627 \n",
       " -0.0282005\n",
       " -0.0277766\n",
       " -0.0273552\n",
       " -0.0269364"
      ]
     },
     "execution_count": 62,
     "metadata": {},
     "output_type": "execute_result"
    }
   ],
   "source": [
    "x=map(x->real(x[1]),a)#extraigo x de a"
   ]
  },
  {
   "cell_type": "code",
   "execution_count": 63,
   "metadata": {},
   "outputs": [
    {
     "data": {
      "text/plain": [
       "1000-element Array{Float64,1}:\n",
       "  0.0      \n",
       " -0.0140151\n",
       " -0.0416243\n",
       " -0.0824126\n",
       " -0.13597  \n",
       " -0.201894 \n",
       " -0.279785 \n",
       " -0.36925  \n",
       " -0.469904 \n",
       " -0.581365 \n",
       " -0.703257 \n",
       " -0.835209 \n",
       " -0.976859 \n",
       "  ⋮        \n",
       "  0.015898 \n",
       "  0.016069 \n",
       "  0.0162341\n",
       "  0.0163933\n",
       "  0.0165467\n",
       "  0.0166944\n",
       "  0.0168365\n",
       "  0.0169729\n",
       "  0.0171039\n",
       "  0.0172294\n",
       "  0.0173496\n",
       "  0.0174645"
      ]
     },
     "execution_count": 63,
     "metadata": {},
     "output_type": "execute_result"
    }
   ],
   "source": [
    "y=map(x->real(x[2]),a)#extraigo y de a"
   ]
  },
  {
   "cell_type": "code",
   "execution_count": 64,
   "metadata": {},
   "outputs": [
    {
     "data": {
      "image/png": "[encoded data removed]",
      "text/plain": [
       "PyPlot.Figure(PyObject <matplotlib.figure.Figure object at 0x7fb2abc15dd0>)"
      ]
     },
     "metadata": {},
     "output_type": "display_data"
    },
    {
     "data": {
      "text/plain": [
       "1-element Array{Any,1}:\n",
       " PyObject <matplotlib.lines.Line2D object at 0x7fb2abb50d50>"
      ]
     },
     "execution_count": 64,
     "metadata": {},
     "output_type": "execute_result"
    }
   ],
   "source": [
    "using PyPlot\n",
    "plot(x,y)"
   ]
  },
  {
   "cell_type": "code",
   "execution_count": null,
   "metadata": {},
   "outputs": [],
   "source": []
  }
 ],
 "metadata": {
  "kernelspec": {
   "display_name": "Julia 0.5.2",
   "language": "julia",
   "name": "julia-0.5"
  },
  "language_info": {
   "file_extension": ".jl",
   "mimetype": "application/julia",
   "name": "julia",
   "version": "0.5.2"
  }
 },
 "nbformat": 4,
 "nbformat_minor": 2
}
