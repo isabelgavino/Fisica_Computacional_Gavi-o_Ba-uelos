{
 "cells": [
  {
   "cell_type": "markdown",
   "metadata": {},
   "source": [
    "## Método del Rectángulo"
   ]
  },
  {
   "cell_type": "markdown",
   "metadata": {},
   "source": [
    "Sabemos que dado un intervalo $[a,b]$, la integral puede ser aproximada por:\n",
    "$$\\int_a^b f(x)\\,dx \\approx (b-a) \\, f\\left(\\frac{a+b}{2}\\right)$$"
   ]
  },
  {
   "cell_type": "code",
   "execution_count": 85,
   "metadata": {
    "collapsed": false
   },
   "outputs": [
    {
     "data": {
      "text/plain": [
       "rectangulo (generic function with 3 methods)"
      ]
     },
     "execution_count": 85,
     "metadata": {},
     "output_type": "execute_result"
    }
   ],
   "source": [
    "#Esta funcion \"rectangulo\" que voy a definir es una función del intervalo [a,b] y del número de particiones que tiene este intervalo\n",
    "function rectangulo(f,a,b,N) \n",
    "    integral=0\n",
    "    total=0\n",
    "    x=linspace(a,b,N) ## defino a \"x\" como un rango que va de \"a\" a \"b\", dividiendolo en \"N\" particiones\n",
    "    \n",
    "    for i in 1:N-1 #es importante que el for vaya hasta N-1 ya que no toca la frontera, sino produce un error\n",
    "    \n",
    "        a=x[i] #a es el primer número que se toma del rango i\n",
    "        b=x[i+1] #b es el número siguiente al valor de a, esto es para hacer pequeños rangos \n",
    "   \n",
    "       total=(b-a)*f((a+b)/2) #\"total\" es el cálculo de la integral en ese rango pero queremos la suma de todos los pequeños rangos\n",
    "        \n",
    "        integral=total+integral #\"integral\" es ahora si la suma de todos los mini rangos, es decir, la integral toral\n",
    "        \n",
    "    end\n",
    "    return integral #queremos que se muestre el valor total, es decir la integral en el rango que se defina y no en los pequeños rangos\n",
    "end\n",
    "\n"
   ]
  },
  {
   "cell_type": "code",
   "execution_count": 86,
   "metadata": {
    "collapsed": false
   },
   "outputs": [
    {
     "data": {
      "text/plain": [
       "f (generic function with 1 method)"
      ]
     },
     "execution_count": 86,
     "metadata": {},
     "output_type": "execute_result"
    }
   ],
   "source": [
    "f(x)=x^2-14x-5 "
   ]
  },
  {
   "cell_type": "code",
   "execution_count": 87,
   "metadata": {
    "collapsed": false
   },
   "outputs": [
    {
     "data": {
      "text/plain": [
       "-416.70137442732187"
      ]
     },
     "execution_count": 87,
     "metadata": {},
     "output_type": "execute_result"
    }
   ],
   "source": [
    "rectangulo(f,0,10,50) #el rango [a,b] va de [0,10] y se van a hacer 50 particiones"
   ]
  },
  {
   "cell_type": "markdown",
   "metadata": {},
   "source": [
    "## Método del Trapecio"
   ]
  },
  {
   "cell_type": "markdown",
   "metadata": {},
   "source": [
    "En lugar de utilizar rectangulos para aproximar la integral en un intervalo dado $[a,b]$, podemos utilizar trapecios:\n",
    "\n",
    "$$\\int_a^b f(x)\\,dx \\approx (b-a) \\, \\left(\\frac{f(a) + f(b)}{2}\\right).$$\n"
   ]
  },
  {
   "cell_type": "code",
   "execution_count": 91,
   "metadata": {
    "collapsed": false
   },
   "outputs": [
    {
     "data": {
      "text/plain": [
       "rectangulo (generic function with 3 methods)"
      ]
     },
     "execution_count": 91,
     "metadata": {},
     "output_type": "execute_result"
    }
   ],
   "source": [
    "#Esta funcion \"trapecio\" es prácticamente lo mismo, solo cambia la fórmula para calcularlo\n",
    "function rectangulo(f,a,b,N) \n",
    "    integral=0\n",
    "    total=0\n",
    "    x=linspace(a,b,N) \n",
    "    \n",
    "    for i in 1:N-1 \n",
    "    \n",
    "        a=x[i] #a es el primer número que se toma del rango i\n",
    "        b=x[i+1] #b es el número siguiente al valor de a, esto es para hacer pequeños rangos \n",
    "   \n",
    "       total=(b-a)*((f(a)+f(b))/2) #aquí es donde varía ya que ahora la fórmula en vex de ser como calcular un rectángulo, ahora es como calcular un trapecio\n",
    "        \n",
    "        integral=total+integral \n",
    "        \n",
    "    end\n",
    "    return integral #queremos que se muestre el valor total, es decir la integral en el rango que se defina y no en los pequeños rangos\n",
    "end\n"
   ]
  },
  {
   "cell_type": "code",
   "execution_count": 92,
   "metadata": {
    "collapsed": false
   },
   "outputs": [
    {
     "data": {
      "text/plain": [
       "f (generic function with 1 method)"
      ]
     },
     "execution_count": 92,
     "metadata": {},
     "output_type": "execute_result"
    }
   ],
   "source": [
    "f(x)=x^2-14x-5 "
   ]
  },
  {
   "cell_type": "code",
   "execution_count": 93,
   "metadata": {
    "collapsed": false
   },
   "outputs": [
    {
     "data": {
      "text/plain": [
       "-416.59725114535615"
      ]
     },
     "execution_count": 93,
     "metadata": {},
     "output_type": "execute_result"
    }
   ],
   "source": [
    "trapecio(f,0,10,50)"
   ]
  },
  {
   "cell_type": "markdown",
   "metadata": {},
   "source": [
    "Podemos notar que utilizando ambos metodos obtenemos el mismo resultado."
   ]
  }
 ],
 "metadata": {
  "kernelspec": {
   "display_name": "Julia 0.6.0",
   "language": "julia",
   "name": "julia-0.6"
  },
  "language_info": {
   "file_extension": ".jl",
   "mimetype": "application/julia",
   "name": "julia",
   "version": "0.6.0"
  }
 },
 "nbformat": 4,
 "nbformat_minor": 2
}
