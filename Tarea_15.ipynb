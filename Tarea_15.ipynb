{
 "cells": [
  {
   "cell_type": "code",
   "execution_count": 42,
   "metadata": {},
   "outputs": [
    {
     "name": "stderr",
     "output_type": "stream",
     "text": [
      "WARNING: replacing module herramientas\n"
     ]
    },
    {
     "data": {
      "text/plain": [
       "herramientas"
      ]
     },
     "execution_count": 42,
     "metadata": {},
     "output_type": "execute_result"
    }
   ],
   "source": [
    "__precompile__() # Este comando es para que julia precompile el paquete\n",
    "\n",
    "module herramientas\n",
    "\n",
    "export Newton #metodo de newton\n",
    "function Newton(f,d,x) \n",
    "    for i in 1:100 \n",
    "        x=x-(f(x)/d(x)) \n",
    "    end\n",
    "   return x\n",
    "end\n",
    "#---------------------------------------------\n",
    "export rectangulo  #metodo del rectángulo\n",
    "function rectangulo(f,a,b,N) \n",
    "    integral=0\n",
    "    total=0\n",
    "    x=linspace(a,b,N) \n",
    "    for i in 1:N-1 \n",
    "        a=x[i] \n",
    "        b=x[i+1] \n",
    "       total=(b-a)*f((a+b)/2)\n",
    "        integral=total+integral \n",
    "    end\n",
    "    return integral\n",
    "end\n",
    "#-------------------------------------------\n",
    "export trapecio # Método del trapecio\n",
    "function trapecio(f,a,b,N) \n",
    "    integral=0\n",
    "    total=0\n",
    "    x=linspace(a,b,N) \n",
    "    for i in 1:N-1 \n",
    "        a=x[i] \n",
    "        b=x[i+1] \n",
    "      total=(b-a)*((f(a)+f(b))/2)    \n",
    "        integral=total+integral \n",
    "         end\n",
    "    return integral\n",
    "end\n",
    "#---------------------------------------------\n",
    "export simpson # Método de Simpson\n",
    "function simpson(f,a,b,N) \n",
    "    integral=0\n",
    "    total=0\n",
    "    x=linspace(a,b,N)  \n",
    "    for i in 1:N-1 \n",
    "        a=x[i] \n",
    "        b=x[i+1]  \n",
    "       total=((b-a)/6)*(f(a)+(4*f((a+b)/2))+f(b)) \n",
    "        integral=total+integral  \n",
    "    end\n",
    "    return integral \n",
    "end\n",
    "#----------------------------------------------------\n",
    "export inter # Método de interpolación de Lagrange\n",
    "function inter(x,y)\n",
    "    n=length(x) \n",
    "   p=0 \n",
    "    for i in 1:n \n",
    "    L=1 \n",
    "        for j in 1:n\n",
    "            if i!=j \n",
    "                L=L.*((x-x[j])/(x[i]-x[j])) \n",
    "            end\n",
    "        end\n",
    "        p=p+(y[i]*L) \n",
    "    end\n",
    "    return p\n",
    "end\n",
    "#----------------------------------------------------\n",
    "export derivadaNumerica #Derivada numerica\n",
    "function derivadaNumerica(f,x,h) \n",
    "  df=(f(x+h)-f(x))/h \n",
    "    return df\n",
    "end\n",
    "#-------------------------------------------------------\n",
    "export derivadaSimetrica #Derivada simétrica\n",
    "function derivadaSimetrica(f,x,h) \n",
    " listh=zeros(9) \n",
    "    for i in 1:9\n",
    "  df=(f(x+h[i])-f(x-h[i]))/h[i] \n",
    "        listh[i]=df \n",
    "    end\n",
    "    return listh \n",
    "end\n",
    "#---------------------------------------------------------\n",
    "export MetodoEuler #Método de Euler\n",
    "function MetodoEuler(f,x0,t0,t,h)\n",
    " listt=t0:h:t\n",
    "    listx=[x0]\n",
    "    for i in 1:length(listt)-1\n",
    "        x0=x0+(h*f(x0,listt[i])) \n",
    "        push!(listx,x0)\n",
    "    end\n",
    "    return listt,listx\n",
    "end\n",
    "#-----------------------------------------------------\n",
    "export Euler_dimensiones ## Método de Euler para más de una dimensión\n",
    "function Euler_dimensiones(f,g,x0,u0,t0,t,h)\n",
    "    listt=t0:h:t \n",
    "    listx=[x0]\n",
    "    listu=[u0]\n",
    "    for i in 1:length(listt)-1\n",
    "    u0=u0+h*g(x0,listt[i])  \n",
    "    x0=x0+h*f(u0,listt[i]) \n",
    "        push!(listx,x0)\n",
    "        push!(listu,u0)\n",
    "    end\n",
    "    return listt,listx\n",
    "end\n",
    "#---------------------------------------------------------------\n",
    "export EulerMedio #metodo de Euler de punto medio\n",
    "function EulerMedio(f,x0,t0,t,h)\n",
    " listt=t0:h:t   \n",
    "    listx=[x0]\n",
    "    for i in 1:length(listt)-1\n",
    "       x0=x0+h*f(x0+(h/2)f(x0,listt[i]),listt[i]+h/2)\n",
    "        push!(listx,x0)\n",
    "    end\n",
    "    return listt,listx\n",
    "end\n",
    "#--------------------------------------------------\n",
    "export RK4 # Runge Kutta 4to orden\n",
    "function RK4(f,x0,t0,t,h)\n",
    "     listt=t0:h:t   \n",
    "    listx=[x0]\n",
    "    for i in 1:length(listt)-1\n",
    "        k1=f(listt[i],x0)\n",
    "        k2=f(listt[i]+(h/2),x0+(k1*h/2))\n",
    "        k3=f(listt[i]+(h/2),x0+(k2*h/2))\n",
    "        k4=f(listt[i],x0+(h*k3))\n",
    "       x0=x0+((h/6)*(k1+(2*k2)+(2k3)+k4)) \n",
    "        push!(listx,x0)\n",
    "    end\n",
    "    return listt,listx\n",
    "end\n",
    "#---\n",
    "\n",
    "end\n"
   ]
  },
  {
   "cell_type": "markdown",
   "metadata": {},
   "source": [
    "# PRUEBAS"
   ]
  },
  {
   "cell_type": "markdown",
   "metadata": {},
   "source": [
    "## Método de Newton"
   ]
  },
  {
   "cell_type": "code",
   "execution_count": 14,
   "metadata": {},
   "outputs": [
    {
     "name": "stderr",
     "output_type": "stream",
     "text": [
      "WARNING: Method definition f(Any) in module Main at In[11]:1 overwritten at In[14]:2.\n",
      "WARNING: Method definition d(Any) in module Main at In[10]:2 overwritten at In[14]:3.\n"
     ]
    },
    {
     "data": {
      "text/plain": [
       "2.3665827156630354e-30"
      ]
     },
     "execution_count": 14,
     "metadata": {},
     "output_type": "execute_result"
    }
   ],
   "source": [
    "#sacado de tarea 2\n",
    "f(x)=2x^2\n",
    "d(x)=4x\n",
    "herramientas.Newton(f,d,3)"
   ]
  },
  {
   "cell_type": "markdown",
   "metadata": {},
   "source": [
    "## Método del rectángulo"
   ]
  },
  {
   "cell_type": "code",
   "execution_count": 15,
   "metadata": {},
   "outputs": [
    {
     "name": "stderr",
     "output_type": "stream",
     "text": [
      "WARNING: Method definition f(Any) in module Main at In[14]:2 overwritten at In[15]:2.\n"
     ]
    },
    {
     "data": {
      "text/plain": [
       "-416.70137442732187"
      ]
     },
     "execution_count": 15,
     "metadata": {},
     "output_type": "execute_result"
    }
   ],
   "source": [
    "#sacado de tarea 6\n",
    "f(x)=x^2-14x-5 \n",
    "herramientas.rectangulo(f,0,10,50)"
   ]
  },
  {
   "cell_type": "markdown",
   "metadata": {},
   "source": [
    "## Método del trapecio"
   ]
  },
  {
   "cell_type": "code",
   "execution_count": 18,
   "metadata": {},
   "outputs": [
    {
     "name": "stderr",
     "output_type": "stream",
     "text": [
      "WARNING: Method definition f(Any) in module Main at In[15]:2 overwritten at In[18]:2.\n"
     ]
    },
    {
     "data": {
      "text/plain": [
       "-416.59725114535615"
      ]
     },
     "execution_count": 18,
     "metadata": {},
     "output_type": "execute_result"
    }
   ],
   "source": [
    "#sacado de tarea 6\n",
    "f(x)=x^2-14x-5 \n",
    "herramientas.trapecio(f,0,10,50)"
   ]
  },
  {
   "cell_type": "markdown",
   "metadata": {},
   "source": [
    "## Método de Simpson"
   ]
  },
  {
   "cell_type": "code",
   "execution_count": 20,
   "metadata": {},
   "outputs": [
    {
     "name": "stderr",
     "output_type": "stream",
     "text": [
      "WARNING: Method definition f(Any) in module Main at In[18]:2 overwritten at In[20]:2.\n"
     ]
    },
    {
     "data": {
      "text/plain": [
       "-416.6666666666667"
      ]
     },
     "execution_count": 20,
     "metadata": {},
     "output_type": "execute_result"
    }
   ],
   "source": [
    "#sacado de tarea 7\n",
    "f(x)=x^2-14x-5 \n",
    "herramientas.simpson(f,0,10,50)"
   ]
  },
  {
   "cell_type": "markdown",
   "metadata": {},
   "source": [
    "## Método de interpolación de Lagrange"
   ]
  },
  {
   "cell_type": "code",
   "execution_count": 22,
   "metadata": {},
   "outputs": [
    {
     "data": {
      "text/plain": [
       "3-element Array{Float64,1}:\n",
       " -1.0\n",
       "  2.0\n",
       "  4.0"
      ]
     },
     "execution_count": 22,
     "metadata": {},
     "output_type": "execute_result"
    }
   ],
   "source": [
    "#sacado de tarea 7\n",
    "x=[1,4,-7]\n",
    "y=[-1,2,4]\n",
    "herramientas.inter(x,y)"
   ]
  },
  {
   "cell_type": "markdown",
   "metadata": {},
   "source": [
    "## Derivada numérica"
   ]
  },
  {
   "cell_type": "code",
   "execution_count": 24,
   "metadata": {},
   "outputs": [
    {
     "name": "stderr",
     "output_type": "stream",
     "text": [
      "WARNING: Method definition f(Any) in module Main at In[20]:2 overwritten at In[24]:2.\n"
     ]
    },
    {
     "data": {
      "text/plain": [
       "2.002999999999311"
      ]
     },
     "execution_count": 24,
     "metadata": {},
     "output_type": "execute_result"
    }
   ],
   "source": [
    "#sacado de tarea 8\n",
    " f(x)=3x^2-4x+2\n",
    "herramientas.derivadaNumerica(f,1,1e-3)"
   ]
  },
  {
   "cell_type": "markdown",
   "metadata": {},
   "source": [
    "## Derivada simétrica"
   ]
  },
  {
   "cell_type": "code",
   "execution_count": 28,
   "metadata": {},
   "outputs": [
    {
     "name": "stderr",
     "output_type": "stream",
     "text": [
      "WARNING: Method definition f(Any) in module Main at In[27]:2 overwritten at In[28]:2.\n"
     ]
    },
    {
     "data": {
      "text/plain": [
       "9-element Array{Float64,1}:\n",
       " 0.0\n",
       " 0.0\n",
       " 0.0\n",
       " 0.0\n",
       " 0.0\n",
       " 0.0\n",
       " 0.0\n",
       " 0.0\n",
       " 0.0"
      ]
     },
     "execution_count": 28,
     "metadata": {},
     "output_type": "execute_result"
    }
   ],
   "source": [
    "#sacado de tarea 9\n",
    " f(x)=cos(x)\n",
    "h=[]\n",
    "for i in 1:9\n",
    "    push!(h,1/10^i) \n",
    "end\n",
    "herramientas.derivadaSimetrica(f,0,h)"
   ]
  },
  {
   "cell_type": "markdown",
   "metadata": {},
   "source": [
    "## Método de Euler"
   ]
  },
  {
   "cell_type": "code",
   "execution_count": 31,
   "metadata": {},
   "outputs": [
    {
     "name": "stderr",
     "output_type": "stream",
     "text": [
      "WARNING: Method definition f(Any, Any) in module Main at In[29]:2 overwritten at In[31]:2.\n"
     ]
    },
    {
     "data": {
      "text/plain": [
       "(0.0:0.01:8.0,[1.0,0.975,0.950625,0.926859,0.903688,0.881096,0.859068,0.837592,0.816652,0.796236  …  2.00748e-9,1.95729e-9,1.90836e-9,1.86065e-9,1.81413e-9,1.76878e-9,1.72456e-9,1.68145e-9,1.63941e-9,1.59843e-9])"
      ]
     },
     "execution_count": 31,
     "metadata": {},
     "output_type": "execute_result"
    }
   ],
   "source": [
    "#sacado de tarea 11\n",
    "f(x,t)=-2.5x\n",
    "herramientas.MetodoEuler(f,1.0,0.0,8.0,0.01)"
   ]
  },
  {
   "cell_type": "markdown",
   "metadata": {},
   "source": [
    "## Método de Euler para más de una dimensión"
   ]
  },
  {
   "cell_type": "code",
   "execution_count": 36,
   "metadata": {},
   "outputs": [
    {
     "name": "stderr",
     "output_type": "stream",
     "text": [
      "WARNING: Method definition g(Any, Any) in module Main at In[35]:2 overwritten at In[36]:2.\n",
      "WARNING: Method definition f(Any, Any) in module Main at In[35]:3 overwritten at In[36]:3.\n"
     ]
    },
    {
     "data": {
      "text/plain": [
       "(0.0:0.5:6.0,[0.0,0.5,0.875,1.03125,0.929688,0.595703,0.112793,-0.398315,-0.809845,-1.01891,-0.973253,-0.68428,-0.224237])"
      ]
     },
     "execution_count": 36,
     "metadata": {},
     "output_type": "execute_result"
    }
   ],
   "source": [
    "#sacado de tarea 11\n",
    "g(x,t)=-x\n",
    "f(u,t)=u\n",
    "herramientas.Euler_dimensiones(f,g,0.0,1.0,0.0,2*pi,0.5)"
   ]
  },
  {
   "cell_type": "markdown",
   "metadata": {},
   "source": [
    "## Método de Euler de punto medio"
   ]
  },
  {
   "cell_type": "code",
   "execution_count": 41,
   "metadata": {},
   "outputs": [
    {
     "name": "stderr",
     "output_type": "stream",
     "text": [
      "WARNING: Method definition f(Any, Any) in module Main at In[39]:1 overwritten at In[41]:2.\n"
     ]
    },
    {
     "data": {
      "text/plain": [
       "(0.0:0.1:8.0,[1.0,0.78125,0.610352,0.476837,0.372529,0.291038,0.227374,0.177636,0.138778,0.10842  …  2.44395e-8,1.90934e-8,1.49167e-8,1.16537e-8,9.10442e-9,7.11283e-9,5.5569e-9,4.34133e-9,3.39166e-9,2.64973e-9])"
      ]
     },
     "execution_count": 41,
     "metadata": {},
     "output_type": "execute_result"
    }
   ],
   "source": [
    "#sacado de tarea 12\n",
    "f(x,t)=-2.5x  #utilicéla misma función que la tarea 11\n",
    "herramientas.EulerMedio(f,1.0,0.0,8.0,0.1)"
   ]
  },
  {
   "cell_type": "markdown",
   "metadata": {},
   "source": [
    "## Runge Kutta 4to orden"
   ]
  },
  {
   "cell_type": "code",
   "execution_count": 43,
   "metadata": {},
   "outputs": [
    {
     "name": "stderr",
     "output_type": "stream",
     "text": [
      "WARNING: Method definition f(Any, Any) in module Main at In[41]:2 overwritten at In[43]:2.\n"
     ]
    },
    {
     "data": {
      "text/plain": [
       "(0.0:0.01:8.0,[1.0,0.999917,0.999583,0.999,0.998167,0.997083,0.99575,0.994167,0.992333,0.99025  …  -77.1772,-77.375,-77.5731,-77.7714,-77.97,-78.1688,-78.3679,-78.5673,-78.7668,-78.9667])"
      ]
     },
     "execution_count": 43,
     "metadata": {},
     "output_type": "execute_result"
    }
   ],
   "source": [
    "#sacado de tarea 12\n",
    "f(x,t)=-2.5x\n",
    "herramientas.RK4(f,1.0,0.0,8.0,0.01)"
   ]
  }
 ],
 "metadata": {
  "kernelspec": {
   "display_name": "Julia 0.5.2",
   "language": "julia",
   "name": "julia-0.5"
  },
  "language_info": {
   "file_extension": ".jl",
   "mimetype": "application/julia",
   "name": "julia",
   "version": "0.5.2"
  }
 },
 "nbformat": 4,
 "nbformat_minor": 2
}
