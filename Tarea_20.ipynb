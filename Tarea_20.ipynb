{
 "cells": [
  {
   "cell_type": "code",
   "execution_count": 2,
   "metadata": {},
   "outputs": [],
   "source": [
    "using PyPlot"
   ]
  },
  {
   "cell_type": "code",
   "execution_count": 3,
   "metadata": {},
   "outputs": [],
   "source": [
    "using SymPy"
   ]
  },
  {
   "cell_type": "code",
   "execution_count": 4,
   "metadata": {},
   "outputs": [
    {
     "data": {
      "text/latex": [
       "\\begin{bmatrix}0&70.7107&100&70.7107&0\\\\0&a&b&c&0\\\\0&d&e&f&0\\\\0&g&h&i&0\\\\0&j&k&l&0\\\\0&0&0&0&0\\end{bmatrix}"
      ],
      "text/plain": [
       "6×5 Array{SymPy.Sym,2}:\n",
       " 0  70.7107000000000  100  70.7107000000000  0\n",
       " 0                 a    b                 c  0\n",
       " 0                 d    e                 f  0\n",
       " 0                 g    h                 i  0\n",
       " 0                 j    k                 l  0\n",
       " 0                 0    0                 0  0"
      ]
     },
     "execution_count": 4,
     "metadata": {},
     "output_type": "execute_result"
    }
   ],
   "source": [
    "#definiré la matriz. Por las condiciones de fronteera sabemos los valores de el primer renglón y la primera y última columna. Las incógnitas son las demás casillas que llenaré con las letras de a:l. Buscaremos el sistema de ecuaciones que nos de esas incógnitas\n",
    "f=[0 70.7107 100 70.7107  0  ; 0 Sym(\"a\") Sym(\"b\") Sym(\"c\") 0  ; 0 Sym(\"d\") Sym(\"e\") Sym(\"f\") 0;0 Sym(\"g\") Sym(\"h\") Sym(\"i\") 0 ;0 Sym(\"j\") Sym(\"k\") Sym(\"l\") 0 ;0 0 0 0 0]"
   ]
  },
  {
   "cell_type": "code",
   "execution_count": 5,
   "metadata": {},
   "outputs": [
    {
     "data": {
      "text/plain": [
       "fi (generic function with 1 method)"
      ]
     },
     "execution_count": 5,
     "metadata": {},
     "output_type": "execute_result"
    }
   ],
   "source": [
    "#función que traduce un par de índices i,j  un único índice k\n",
    "function fi(i,j,R)#renglones, columnas,dimension de renglones\n",
    "     k=i+R*(j-1)\n",
    "end"
   ]
  },
  {
   "cell_type": "code",
   "execution_count": 6,
   "metadata": {},
   "outputs": [
    {
     "data": {
      "text/plain": [
       "12-element Array{Any,1}:\n",
       " -4*a + b + d + 70.7107\n",
       "  a - 4*b + c + e + 100\n",
       "  b - 4*c + f + 70.7107\n",
       "        a - 4*d + e + g\n",
       "    b + d - 4*e + f + h\n",
       "        c + e - 4*f + i\n",
       "        d - 4*g + h + j\n",
       "    e + g - 4*h + i + k\n",
       "        f + h - 4*i + l\n",
       "            g - 4*j + k\n",
       "        h + j - 4*k + l\n",
       "            i + k - 4*l"
      ]
     },
     "execution_count": 6,
     "metadata": {},
     "output_type": "execute_result"
    }
   ],
   "source": [
    "ecuaciones=[] # genero este vector vacío para que ahí seguarden las ecuaciones\n",
    "for i in 2:5 #comienza en 2 ya que i representa a los renglones y el renglon 1 son las condiciones de frontera al igual que el renglon 6, por eso termina en 5 \n",
    "        for j in 2:4 # j representa a las columnas y sabemos que hay 5 por ser una matriz de 5x6 pero por las condicines de frontera sabemos quetanto la columna 1 como la 5 son ceros entonces por eso comienza en 2 y termina en 4.\n",
    "              \n",
    "    E=f[fi(i,j-1,6)]-4f[fi(i,j,6)]+f[fi(i,j+1,6)]+f[fi(i+1,j,6)]+f[fi(i-1,j,6)] #es la fórmula de la ecuación de Laplace para obtener las ecuaciones.\n",
    "    push!(ecuaciones,E) #Guardo en el vector vacío los resultados.\n",
    "end\n",
    "\n",
    "end\n",
    "ecuaciones\n"
   ]
  },
  {
   "cell_type": "code",
   "execution_count": 7,
   "metadata": {},
   "outputs": [
    {
     "data": {
      "text/plain": [
       "12-element Array{Any,1}:\n",
       " -4*a + b + d + 70.7107\n",
       "  a - 4*b + c + e + 100\n",
       "  b - 4*c + f + 70.7107\n",
       "        a - 4*d + e + g\n",
       "    b + d - 4*e + f + h\n",
       "        c + e - 4*f + i\n",
       "        d - 4*g + h + j\n",
       "    e + g - 4*h + i + k\n",
       "        f + h - 4*i + l\n",
       "            g - 4*j + k\n",
       "        h + j - 4*k + l\n",
       "            i + k - 4*l"
      ]
     },
     "execution_count": 7,
     "metadata": {},
     "output_type": "execute_result"
    }
   ],
   "source": [
    "b=[] #genero otro vector vacío\n",
    "\n",
    "for r in 1:12 #tenemos 12 ecuaciones y 12 incógnitas.\n",
    "    B=ecuaciones[r]\n",
    "    \n",
    " (Sym(\"a\")=>0,Sym(\"b\")=>0,Sym(\"c\")=>0,Sym(\"d\")=>0,Sym(\"e\")=>0,Sym(\"f\")=>0,Sym(\"g\")=>0,Sym(\"h\")=>0,Sym(\"i\")=>0,Sym(\"j\")=>0,Sym(\"k\")=>0,Sym(\"l\")=>0)\n",
    "    push!(b,B)\n",
    "end\n",
    "b"
   ]
  },
  {
   "cell_type": "markdown",
   "metadata": {},
   "source": [
    "Lo que intenté hacer con el vector b era volver a las incógnitas cero para que únicamente quedara el vector b que busco pero no lo logré y no sé por qué... Lo tendré que hacer a mano."
   ]
  },
  {
   "cell_type": "code",
   "execution_count": 36,
   "metadata": {},
   "outputs": [
    {
     "data": {
      "text/plain": [
       "14-element Array{Float64,1}:\n",
       "   0.0   \n",
       "   0.0   \n",
       "   0.0   \n",
       "  70.7107\n",
       "   0.0   \n",
       "   0.0   \n",
       "   0.0   \n",
       "   0.0   \n",
       " 100.0   \n",
       "   0.0   \n",
       "   0.0   \n",
       "   0.0   \n",
       "   0.0   \n",
       "  70.7107"
      ]
     },
     "execution_count": 36,
     "metadata": {},
     "output_type": "execute_result"
    }
   ],
   "source": [
    "b=[0, 0, 0, 70.7107, 0, 0, 0, 0, 100, 0, 0, 0, 0, 70.7107]"
   ]
  },
  {
   "cell_type": "code",
   "execution_count": 38,
   "metadata": {},
   "outputs": [
    {
     "data": {
      "text/plain": [
       "14×14 Array{Int64,2}:\n",
       " -4   1   0   0   0   1   0   0   0   0   0   0   0   0\n",
       "  1  -4   1   0   0   0   1   0   0   0   0   0   0   0\n",
       "  0   1  -4   1   0   0   0   1   0   0   0   0   0   0\n",
       "  0   0   1  -4   1   0   0   0   1   0   0   0   0   0\n",
       "  0   0   0   1  -4   1   0   0   0   1   0   0   0   0\n",
       "  1   0   0   0   1  -4   1   0   0   0   1   0   0   0\n",
       "  0   1   0   0   0   1  -4   1   0   0   0   1   0   0\n",
       "  0   0   1   0   0   0   1  -4   1   0   0   0   1   0\n",
       "  0   0   0   1   0   0   0   1  -4   1   0   0   0   1\n",
       "  0   0   0   0   1   0   0   0   1  -4   1   0   0   0\n",
       "  0   0   0   0   0   1   0   0   0   1  -4   1   0   0\n",
       "  0   0   0   0   0   0   1   0   0   0   1  -4   1   0\n",
       "  0   0   0   0   0   0   0   1   0   0   0   1  -4   1\n",
       "  0   0   0   0   0   0   0   0   1   0   0   0   1  -4"
      ]
     },
     "execution_count": 38,
     "metadata": {},
     "output_type": "execute_result"
    }
   ],
   "source": [
    "A=[-4 1 0 0 0 1 0 0 0 0 0 0 0 0 ; 1 -4 1 0 0 0 1 0 0 0 0 0 0 0 ; 0 1 -4 1 0 0 0 1 0 0 0 0 0 0; 0 0 1 -4 1 0 0 0 1 0 0 0 0 0; 0 0 0 1 -4 1 0 0 0 1 0 0 0 0 ; 1 0 0 0 1 -4 1 0 0 0 1 0 0 0 ; 0 1 0 0 0 1 -4 1 0 0 0 1 0 0 ; 0 0 1 0 0 0 1 -4 1 0 0 0 1 0 ; 0 0 0 1 0 0 0 1 -4 1 0 0 0 1 ; 0 0 0 0 1 0 0 0 1 -4 1 0 0 0 ; 0 0 0 0 0 1 0 0 0 1 -4 1 0 0 ; 0 0 0 0 0 0 1 0 0 0 1 -4 1 0 ; 0 0 0 0 0 0 0 1 0 0 0 1 -4 1 ; 0 0 0 0 0 0 0 0 1 0 0 0 1 -4 ]\n"
   ]
  },
  {
   "cell_type": "code",
   "execution_count": 39,
   "metadata": {},
   "outputs": [
    {
     "data": {
      "text/plain": [
       "14×14 Array{Float64,2}:\n",
       " -0.306279   -0.106855   -0.0449389  …  -0.036379   -0.0231832  -0.0130341\n",
       " -0.106855   -0.343004   -0.121547      -0.0575626  -0.0425548  -0.0231832\n",
       " -0.0449389  -0.121547   -0.347843      -0.0471797  -0.0575626  -0.036379 \n",
       " -0.0295804  -0.0537108  -0.123134      -0.0377496  -0.044081   -0.0461294\n",
       " -0.0444297  -0.0431181  -0.0567381     -0.0456103  -0.0343443  -0.029878 \n",
       " -0.11826    -0.0844172  -0.0582083  …  -0.0879536  -0.050178   -0.028953 \n",
       " -0.0762036  -0.143614   -0.0934067     -0.146691   -0.0894736  -0.0433197\n",
       " -0.0433197  -0.0894736  -0.146691      -0.0934067  -0.143614   -0.0762036\n",
       " -0.028953   -0.050178   -0.0879536     -0.0582083  -0.0844172  -0.11826  \n",
       " -0.029878   -0.0343443  -0.0456103     -0.0567381  -0.0431181  -0.0444297\n",
       " -0.0461294  -0.044081   -0.0377496  …  -0.123134   -0.0537108  -0.0295804\n",
       " -0.036379   -0.0575626  -0.0471797     -0.347843   -0.121547   -0.0449389\n",
       " -0.0231832  -0.0425548  -0.0575626     -0.121547   -0.343004   -0.106855 \n",
       " -0.0130341  -0.0231832  -0.036379      -0.0449389  -0.106855   -0.306279 "
      ]
     },
     "execution_count": 39,
     "metadata": {},
     "output_type": "execute_result"
    }
   ],
   "source": [
    "a=inv(A)"
   ]
  },
  {
   "cell_type": "code",
   "execution_count": 40,
   "metadata": {},
   "outputs": [
    {
     "data": {
      "text/plain": [
       "14-element Array{Float64,1}:\n",
       "  5.9086\n",
       " 10.455 \n",
       " 20.0746\n",
       " 41.7982\n",
       " 19.2523\n",
       " 13.1794\n",
       " 15.8369\n",
       " 28.0453\n",
       " 57.1551\n",
       " 22.0318\n",
       " 11.7197\n",
       " 11.6678\n",
       " 19.1145\n",
       " 36.7451"
      ]
     },
     "execution_count": 40,
     "metadata": {},
     "output_type": "execute_result"
    }
   ],
   "source": [
    "F=(-a*b)"
   ]
  },
  {
   "cell_type": "code",
   "execution_count": 44,
   "metadata": {},
   "outputs": [
    {
     "data": {
      "text/plain": [
       "7×2 Array{Float64,2}:\n",
       "  5.9086  28.0453\n",
       " 10.455   57.1551\n",
       " 20.0746  22.0318\n",
       " 41.7982  11.7197\n",
       " 19.2523  11.6678\n",
       " 13.1794  19.1145\n",
       " 15.8369  36.7451"
      ]
     },
     "execution_count": 44,
     "metadata": {},
     "output_type": "execute_result"
    }
   ],
   "source": [
    "f=reshape(F,(7,2))"
   ]
  },
  {
   "cell_type": "code",
   "execution_count": 45,
   "metadata": {},
   "outputs": [
    {
     "data": {
      "image/png": "[encoded data removed]",
      "text/plain": [
       "PyPlot.Figure(PyObject <matplotlib.figure.Figure object at 0x7f9b06801fd0>)"
      ]
     },
     "metadata": {},
     "output_type": "display_data"
    },
    {
     "data": {
      "text/plain": [
       "PyObject <matplotlib.collections.QuadMesh object at 0x7f9afed32fd0>"
      ]
     },
     "execution_count": 45,
     "metadata": {},
     "output_type": "execute_result"
    }
   ],
   "source": [
    "pcolormesh(f)"
   ]
  },
  {
   "cell_type": "markdown",
   "metadata": {},
   "source": [
    "No entendí como hacer la parte de reshape ya que tenia que convertirlo a una matriz pero tenía 15 elementos así que eliminé una columna y un renglón de la matriz A y eliminé un elemento del vector b para que quedara de 14 e hice una matriz de 7x2, ahora eliminaré otros 2 renglones, columnas y elementos del vector b y haré una matriz de 4x3."
   ]
  },
  {
   "cell_type": "code",
   "execution_count": 46,
   "metadata": {},
   "outputs": [
    {
     "data": {
      "text/plain": [
       "12×12 Array{Int64,2}:\n",
       " -4   1   0   0   0   1   0   0   0   0   0   0\n",
       "  1  -4   1   0   0   0   1   0   0   0   0   0\n",
       "  0   1  -4   1   0   0   0   1   0   0   0   0\n",
       "  0   0   1  -4   1   0   0   0   1   0   0   0\n",
       "  0   0   0   1  -4   1   0   0   0   1   0   0\n",
       "  1   0   0   0   1  -4   1   0   0   0   1   0\n",
       "  0   1   0   0   0   1  -4   1   0   0   0   1\n",
       "  0   0   1   0   0   0   1  -4   1   0   0   0\n",
       "  0   0   0   1   0   0   0   1  -4   1   0   0\n",
       "  0   0   0   0   1   0   0   0   1  -4   1   0\n",
       "  0   0   0   0   0   1   0   0   0   1  -4   1\n",
       "  0   0   0   0   0   0   1   0   0   0   1  -4"
      ]
     },
     "execution_count": 46,
     "metadata": {},
     "output_type": "execute_result"
    }
   ],
   "source": [
    "A=[-4 1 0 0 0 1 0 0 0 0 0 0  ; 1 -4 1 0 0 0 1 0 0 0 0 0  ; 0 1 -4 1 0 0 0 1 0 0 0 0 ; 0 0 1 -4 1 0 0 0 1 0 0 0 ; 0 0 0 1 -4 1 0 0 0 1 0 0  ; 1 0 0 0 1 -4 1 0 0 0 1 0  ; 0 1 0 0 0 1 -4 1 0 0 0 1  ; 0 0 1 0 0 0 1 -4 1 0 0 0  ; 0 0 0 1 0 0 0 1 -4 1 0 0  ; 0 0 0 0 1 0 0 0 1 -4 1 0  ; 0 0 0 0 0 1 0 0 0 1 -4 1  ; 0 0 0 0 0 0 1 0 0 0 1 -4 ]\n"
   ]
  },
  {
   "cell_type": "code",
   "execution_count": 52,
   "metadata": {},
   "outputs": [],
   "source": [
    "a=inv(A);"
   ]
  },
  {
   "cell_type": "code",
   "execution_count": 50,
   "metadata": {},
   "outputs": [],
   "source": [
    "b=[0, 70.7107, 0, 0, 0, 0, 100, 0, 0, 0, 0, 70.7107];"
   ]
  },
  {
   "cell_type": "code",
   "execution_count": 51,
   "metadata": {},
   "outputs": [],
   "source": [
    "F=(-a*b);"
   ]
  },
  {
   "cell_type": "code",
   "execution_count": 55,
   "metadata": {},
   "outputs": [
    {
     "data": {
      "text/plain": [
       "4×3 Array{Float64,2}:\n",
       " 16.3011   11.1538  10.0614 \n",
       " 40.0362   25.168    9.73406\n",
       " 17.637    55.4962  17.721  \n",
       "  9.71306  20.7987  35.982  "
      ]
     },
     "execution_count": 55,
     "metadata": {},
     "output_type": "execute_result"
    }
   ],
   "source": [
    "f=reshape(F,(4,3))"
   ]
  },
  {
   "cell_type": "code",
   "execution_count": 56,
   "metadata": {},
   "outputs": [
    {
     "data": {
      "image/png": "[encoded data removed]",
      "text/plain": [
       "PyPlot.Figure(PyObject <matplotlib.figure.Figure object at 0x7f9afececc10>)"
      ]
     },
     "metadata": {},
     "output_type": "display_data"
    },
    {
     "data": {
      "text/plain": [
       "PyObject <matplotlib.collections.QuadMesh object at 0x7f9afec88890>"
      ]
     },
     "execution_count": 56,
     "metadata": {},
     "output_type": "execute_result"
    }
   ],
   "source": [
    "pcolormesh(f)"
   ]
  }
 ],
 "metadata": {
  "kernelspec": {
   "display_name": "Julia 0.5.2",
   "language": "julia",
   "name": "julia-0.5"
  },
  "language_info": {
   "file_extension": ".jl",
   "mimetype": "application/julia",
   "name": "julia",
   "version": "0.5.2"
  }
 },
 "nbformat": 4,
 "nbformat_minor": 2
}
